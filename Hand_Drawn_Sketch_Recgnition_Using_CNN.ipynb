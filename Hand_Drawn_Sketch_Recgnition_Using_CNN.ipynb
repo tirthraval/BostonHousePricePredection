{
  "nbformat": 4,
  "nbformat_minor": 0,
  "metadata": {
    "colab": {
      "name": "Hand Drawn Sketch Recgnition Using CNN.ipynb",
      "provenance": [],
      "collapsed_sections": [],
      "include_colab_link": true
    },
    "kernelspec": {
      "name": "python3",
      "display_name": "Python 3"
    },
    "language_info": {
      "name": "python"
    }
  },
  "cells": [
    {
      "cell_type": "markdown",
      "metadata": {
        "id": "view-in-github",
        "colab_type": "text"
      },
      "source": [
        "<a href=\"https://colab.research.google.com/github/tirthraval/BostonHousePricePredection/blob/main/Hand_Drawn_Sketch_Recgnition_Using_CNN.ipynb\" target=\"_parent\"><img src=\"https://colab.research.google.com/assets/colab-badge.svg\" alt=\"Open In Colab\"/></a>"
      ]
    },
    {
      "cell_type": "markdown",
      "metadata": {
        "id": "2zqOtqohcZ7Q"
      },
      "source": [
        "Tirth Bhavesh Raval - txr210000\n",
        " Apoorva Ajay Pise - aap190023\n",
        "  Abhilash Vadla -axv200018"
      ]
    },
    {
      "cell_type": "code",
      "metadata": {
        "colab": {
          "base_uri": "https://localhost:8080/"
        },
        "id": "mSxZY6aOmDQd",
        "outputId": "87312662-402c-44f4-ddad-9adc3252e35c"
      },
      "source": [
        "from google.colab import drive\n",
        "drive.mount('/content/gdrive')"
      ],
      "execution_count": null,
      "outputs": [
        {
          "output_type": "stream",
          "name": "stdout",
          "text": [
            "Drive already mounted at /content/gdrive; to attempt to forcibly remount, call drive.mount(\"/content/gdrive\", force_remount=True).\n"
          ]
        }
      ]
    },
    {
      "cell_type": "code",
      "metadata": {
        "id": "xbifE-5iOlP-"
      },
      "source": [
        "import pandas as pd\n",
        "import os\n",
        "import cv2\n",
        "import matplotlib.pyplot as plt\n",
        "import numpy as np\n",
        "from tensorflow.keras.preprocessing.image import ImageDataGenerator"
      ],
      "execution_count": null,
      "outputs": []
    },
    {
      "cell_type": "code",
      "metadata": {
        "id": "iKiKZQz2SymP"
      },
      "source": [
        "learn_path=r\"gdrive/My Drive/Final Dataset/Train\"\n",
        "val_path=r\"gdrive/My Drive/Final Dataset/Test\""
      ],
      "execution_count": null,
      "outputs": []
    },
    {
      "cell_type": "code",
      "metadata": {
        "id": "alnvNg-GiNm4"
      },
      "source": [
        "x_learn=[]\n",
        "\n",
        "for repo in os.listdir(learn_path):\n",
        "\n",
        "    sub_route=train_path+\"/\"+repo\n",
        "\n",
        "    for pic in os.listdir(sub_route):\n",
        "\n",
        "        pic_path=sub_route+\"/\"+pic\n",
        "\n",
        "        imgage_array=cv2.imread(pic_path,0)# we pass second arrgument as 0 because it will convert rgb image to grayscale\n",
        "\n",
        "        imgage_array=cv2.resize(imgage_array,(224,224))\n",
        "\n",
        "        x_learn.append(imgage_array)"
      ],
      "execution_count": null,
      "outputs": []
    },
    {
      "cell_type": "code",
      "metadata": {
        "id": "C1T51GcpUKcs"
      },
      "source": [
        "x_val=[]\n",
        "\n",
        "for repo in os.listdir(val_path):\n",
        "\n",
        "    sub_route=test_path+\"/\"+repo\n",
        "\n",
        "    for pic in os.listdir(sub_route):\n",
        "\n",
        "        pic_path=sub_route+\"/\"+pic\n",
        "\n",
        "        imgage_array=cv2.imread(pic_path,0) # we pass second arrgument as 0 because it will convert rgb image to grayscale\n",
        "\n",
        "        imgage_array=cv2.resize(imgage_array,(224,224))\n",
        "\n",
        "        x_val.append(imgage_array)"
      ],
      "execution_count": null,
      "outputs": []
    },
    {
      "cell_type": "code",
      "metadata": {
        "id": "CVN-tDBwUOIW"
      },
      "source": [
        "# converting x_learn and x_val into the numpy array\n",
        "learn_x=np.array(x_learn) \n",
        "val_x=np.array(x_val)"
      ],
      "execution_count": null,
      "outputs": []
    },
    {
      "cell_type": "code",
      "metadata": {
        "colab": {
          "base_uri": "https://localhost:8080/"
        },
        "id": "aTBod6yLqpmR",
        "outputId": "262d2fe5-499a-413c-e0b6-31b363ccf922"
      },
      "source": [
        "#print the shape of learm_x and learn_x\n",
        "\n",
        "print(\"Shape of traing set:- \"+str(learn_x.shape))\n",
        "print(\"Shape of Testing set:-\"+str(val_x.shape))"
      ],
      "execution_count": null,
      "outputs": [
        {
          "output_type": "stream",
          "name": "stdout",
          "text": [
            "Shape of traing set:- (512, 224, 224)\n",
            "Shape of Testing set:-(128, 224, 224)\n"
          ]
        }
      ]
    },
    {
      "cell_type": "markdown",
      "metadata": {
        "id": "qkSVCueEsLcx"
      },
      "source": [
        "512 images are in traing set and the size of the image is 224*224\n",
        "128 images are in testing set and the size of the image is 224*224 and all images are converted in to the gray scale."
      ]
    },
    {
      "cell_type": "code",
      "metadata": {
        "id": "oSSkQy_KsXXf"
      },
      "source": [
        "#dividing all the values by 255 to convert it values in between of 0.0 and 1.0\n",
        "\n",
        "learn_images=learn_x/255.0\n",
        "val_images=val_x/255.0"
      ],
      "execution_count": null,
      "outputs": []
    },
    {
      "cell_type": "code",
      "metadata": {
        "colab": {
          "base_uri": "https://localhost:8080/"
        },
        "id": "dL1jMtg3tVtG",
        "outputId": "843944cc-8142-447e-8168-21b55101abaa"
      },
      "source": [
        "#Let's use ImageDataGenerator to compute the labels for the appropriate datasets. Because our images are saved in folders\n",
        "\n",
        "learn_data = ImageDataGenerator(rescale = 1./255)\n",
        "val_data = ImageDataGenerator(rescale = 1./255)\n",
        "\n",
        "learning_set = learn_data.flow_from_directory(learn_path,target_size = (224, 224), batch_size = 30, class_mode = 'sparse')\n",
        "val_set = val_data.flow_from_directory(val_path, target_size = (224, 224), batch_size = 30, class_mode = 'sparse')"
      ],
      "execution_count": null,
      "outputs": [
        {
          "output_type": "stream",
          "name": "stdout",
          "text": [
            "Found 512 images belonging to 8 classes.\n",
            "Found 128 images belonging to 8 classes.\n"
          ]
        }
      ]
    },
    {
      "cell_type": "markdown",
      "metadata": {
        "id": "QoFafZH2uZGe"
      },
      "source": [
        "Total we have 8 classes such as airplane, apple, bell, butterfly, cake, laptop, pizza and ship\n"
      ]
    },
    {
      "cell_type": "code",
      "metadata": {
        "id": "hMrlHSXDw1og"
      },
      "source": [
        "#lets get the labes of diffrent classes\n",
        "learn_tag=learning_set.classes\n",
        "val_tags=val_set.classes"
      ],
      "execution_count": null,
      "outputs": []
    },
    {
      "cell_type": "code",
      "metadata": {
        "colab": {
          "base_uri": "https://localhost:8080/"
        },
        "id": "RW8uKM8W0-j4",
        "outputId": "c32c04f6-0432-4f35-e006-a9bfbbf393f9"
      },
      "source": [
        "#Let's look at how the classes have been encoded in order to interpret classification.\n",
        "learning_set.class_indices"
      ],
      "execution_count": null,
      "outputs": [
        {
          "output_type": "execute_result",
          "data": {
            "text/plain": [
              "{'airplane': 0,\n",
              " 'apple': 1,\n",
              " 'bell': 2,\n",
              " 'butterfly': 3,\n",
              " 'cake': 4,\n",
              " 'laptop': 5,\n",
              " 'pizza': 6,\n",
              " 'ship': 7}"
            ]
          },
          "metadata": {},
          "execution_count": 66
        }
      ]
    },
    {
      "cell_type": "code",
      "metadata": {
        "colab": {
          "base_uri": "https://localhost:8080/"
        },
        "id": "ROBkv1_k3n6i",
        "outputId": "4f0cafe1-98ca-4b99-ba82-54ad4197c15c"
      },
      "source": [
        "# lets see the shape of traing and testing data set\n",
        "print(learn_images.shape)\n",
        "print(val_images.shape)\n",
        "print(learn_labels.shape)\n",
        "print(val_labels.shape)\n"
      ],
      "execution_count": null,
      "outputs": [
        {
          "output_type": "stream",
          "name": "stdout",
          "text": [
            "(512, 224, 224)\n",
            "(128, 224, 224)\n",
            "(512,)\n",
            "(128,)\n"
          ]
        }
      ]
    },
    {
      "cell_type": "code",
      "metadata": {
        "colab": {
          "base_uri": "https://localhost:8080/",
          "height": 303
        },
        "id": "SUH8dyzX4EXX",
        "outputId": "f6a9e1fa-3844-4979-9dc6-199165ec04be"
      },
      "source": [
        "# plot the pictures to get better understanding\n",
        "fig, a = plt.subplots(nrows=3, ncols=3, figsize=(5,5))\n",
        "a = np.ravel(a)\n",
        "\n",
        "for k in range(len(a)):\n",
        "    plt.sca(a[k])\n",
        "    plt.imshow(learn_images[i])\n",
        "    plt.axis('off')\n",
        "    \n",
        "plt.show()"
      ],
      "execution_count": null,
      "outputs": [
        {
          "output_type": "display_data",
          "data": {
            "image/png": "[encoded data removed]",
            "text/plain": [
              "<Figure size 360x360 with 9 Axes>"
            ]
          },
          "metadata": {
            "needs_background": "light"
          }
        }
      ]
    },
    {
      "cell_type": "markdown",
      "metadata": {
        "id": "pVXc9RLP2GEx"
      },
      "source": [
        "we are going to use convolution nueral network for achiving image classfication. we implemetend cnn from scaratch. it has maily three operations\n",
        "1) convolution \n",
        "2) maxpooling\n",
        "3) softmax\n"
      ]
    },
    {
      "cell_type": "code",
      "metadata": {
        "id": "9fMOqjBE3Kyn"
      },
      "source": [
        "# creating a class which will perform the convolution operation \n",
        "\n",
        "class convolution_operation:\n",
        "    def __init__(self, num_f, f_size):\n",
        "        self.num_f = num_f\n",
        "        self.f_size = f_size\n",
        "        self.convolutional_filter = np.random.randn(num_f, f_size, f_size)/(f_size * f_size)\n",
        "\n",
        "    def region(self,img): #generator function\n",
        "        h, w, = img.shape\n",
        "        self.img = img\n",
        "        for j in range(h - self.f_size + 1):\n",
        "            for k in range(w - self.f_size +1):\n",
        "                img_area = img[j:(j+self.f_size),k:(k+self.f_size)]\n",
        "                yield img_area, j, k\n",
        "\n",
        "    def forward_propgation(self,img):\n",
        "        h, w = img.shape\n",
        "        convolution_output = np.zeros((h - self.f_size + 1, w - self.f_size+1, self.num_f))\n",
        "        for img_area, i,j in self.region(img):\n",
        "            convolution_output[i,j]= np.sum(img_area * self.convolutional_filter, axis=(1,2))\n",
        "        return convolution_output\n",
        "\n",
        "    def backward_propogation(self, dL_dout, learning_rate):\n",
        "        dl_df = np.zeros(self.convolutional_filter.shape)\n",
        "        for img_area, i,j in self.region(self.img):\n",
        "              for k in range(self.num_f):\n",
        "                dl_df[k] += img_area*dL_dout[i,j,k]\n",
        "\n",
        "        #filter params update\n",
        "        self.convolutional_filter -= learning_rate*dl_df\n",
        "        return dl_df"
      ],
      "execution_count": null,
      "outputs": []
    },
    {
      "cell_type": "code",
      "metadata": {
        "id": "4-R66Jbmjpah"
      },
      "source": [
        "#creating a class for max poll opertion\n",
        "class MaxPool:\n",
        "  def __init__(self, f_size):\n",
        "    self.f_size = f_size\n",
        "\n",
        "  def region(self, img):\n",
        "    new_h = img.shape[0] // self.f_size\n",
        "    new_w = img.shape[1] // self.f_size\n",
        "    self.img = img\n",
        "\n",
        "    for i in range(new_h):\n",
        "      for j in range(new_w):\n",
        "        img_area = img[(i*self.f_size):(i*self.f_size + self.f_size), (j*self.f_size):(j*self.f_size + self.f_size)]\n",
        "        yield img_area, i, j\n",
        "\n",
        "  def forward_propgation(self, img):\n",
        "    h, w, num_f = img.shape\n",
        "    output = np.zeros((h // self.f_size, w // self.f_size, num_f))\n",
        "\n",
        "    for img_area, i, j in self.region(img):\n",
        "      output[i,j] = np.amax(img_area, axis = (0,1))\n",
        "\n",
        "    return output\n",
        "\n",
        "\n",
        "  def backward_propogation(self, dl_dout):\n",
        "    dl_dmax = np.zeros(self.img.shape)\n",
        "    for img_area, i, j in self.region(self.img):\n",
        "      h, w, num_f = img_area.shape\n",
        "      max_value = np.amax(img_area,axis = (0,1))\n",
        "\n",
        "      for l in range(h):\n",
        "        for m in range(w):\n",
        "          for n in range(num_f):\n",
        "            if img_area[l,m,n] == max_value[n]:\n",
        "              dl_dmax[i*self.f_size + l, j*self.f_size + m, n]=dl_dout[i,j,n]\n",
        "      return dl_dmax"
      ],
      "execution_count": null,
      "outputs": []
    },
    {
      "cell_type": "code",
      "metadata": {
        "id": "q30_8y0mp8ZJ"
      },
      "source": [
        "#creating class for softmax function\n",
        "class Softmax:\n",
        "  def __init__(self, i_node, s_node):\n",
        "    self.weight = np.random.randn(i_node, s_node)/i_node #genrating weight with random value\n",
        "    self.bias = np.zeros(s_node) # genrating bias with ranom values\n",
        "\n",
        "  def forward_propgation(self, img):\n",
        "    self.orig_im_shape = img.shape # it will be used in backpropgation\n",
        "    img_modi = img.flatten()\n",
        "    self.modified_input = img_modi #it will be used in backpropogation\n",
        "    o_val = np.dot(img_modi, self.weight) + self.bias\n",
        "    self.out = o_val\n",
        "    e_out = np.exp(o_val)\n",
        "    return e_out/np.sum(e_out, axis=0)\n",
        "\n",
        "  def backward_propogation(self, dl_dout, l_rate):\n",
        "    for i, gradiant in enumerate(dl_dout):\n",
        "      if gradiant ==0:\n",
        "        continue\n",
        "\n",
        "      transformation_equation = np.exp(self.out)\n",
        "      S_total = np.sum(transformation_equation)\n",
        "\n",
        "      #finding the value of gradints with respect z\n",
        "      d_dz = -transformation_equation[i]*transformation_equation / (S_total **2)\n",
        "      d_dz[i] = transformation_equation[i]*(S_total -  transformation_equation[i]) / (S_total **2)\n",
        "\n",
        "\n",
        "      # finding the value of gradints against of total weight, bias and input\n",
        "      d_dw =  self.modified_input\n",
        "      dz_db = 1\n",
        "      dz_d_input = self.weight\n",
        "\n",
        "    \n",
        "      #finding the gradiants of loss agianst the totals\n",
        "      dl_dz = gradiant * d_dz\n",
        "\n",
        "      #finding the gradiants of loss against weights bias and input\n",
        "      dl_dw = d_dw[np.newaxis].T @ dl_dz[np.newaxis]\n",
        "      dl_db = dl_dz * dz_db\n",
        "      dl_d_input = dz_d_input @ dl_dz\n",
        "\n",
        "    self.weight -= l_rate *dl_dw\n",
        "    self.bias -= l_rate * dl_db\n",
        "\n",
        "    return dl_d_input.reshape(self.orig_im_shape)"
      ],
      "execution_count": null,
      "outputs": []
    },
    {
      "cell_type": "code",
      "metadata": {
        "id": "m7NElZHEgv4s"
      },
      "source": [
        "con1 = convolution_operation(8,3)\n",
        "pool1 = MaxPool(2)\n",
        "softmax = Softmax(111*111*8, 8)\n",
        "\n",
        "#implementing forward propgation\n",
        "\n",
        "def cnn_forward_proppgation(img, tag):\n",
        "    out1 = con1.forward_propgation(img)\n",
        "    out1 = pool1.forward_propgation(out1)\n",
        "    out1 = softmax.forward_propgation(out1)\n",
        "\n",
        "    \n",
        "    #finding out the loss using cross-entropy\n",
        "    c_l = -np.log(out1[tag])\n",
        "    if np.argmax(out1) == tag:\n",
        "      acc_eval = 1\n",
        "    else:\n",
        "      acc_eval = 0\n",
        "\n",
        "    return out1, c_l, acc_eval\n",
        "\n",
        "\n",
        "def learning_cnn(img, tag, learn_rate =0.001):\n",
        "\n",
        "    output, loss, accuracy = cnn_forward_prop(img, tag)\n",
        "    grad = np.zeros(8)\n",
        "    grad[tag] = -1 / output[tag]\n",
        "    gradiant_backprop = softmax.backward_propogation(grad, learn_rate)\n",
        "    gradiant_backprop = pool1.backward_propogation(gradiant_backprop)\n",
        "    gradiant_backprop = con1.backward_propogation(gradiant_backprop, learn_rate)\n",
        "\n",
        "    return loss, accuracy"
      ],
      "execution_count": null,
      "outputs": []
    },
    {
      "cell_type": "markdown",
      "metadata": {
        "id": "joeN-b1ktrMX"
      },
      "source": [
        "Tranning the cnn model............"
      ]
    },
    {
      "cell_type": "code",
      "metadata": {
        "id": "dBfmUGW7ndrZ"
      },
      "source": [
        "for epoch in range(5):\n",
        "    print('ephocs %d ->'% (epoch +1))\n",
        "\n",
        "    #shuffle the training data\n",
        "    shuffle_data = np.random.permutation(len(train_images))\n",
        "    learn_images = learn_images[shuffle_data]\n",
        "    learn_labels = learn_labels[shuffle_data]\n",
        "\n",
        "    l = 0.0\n",
        "    n_correct = 0\n",
        "\n",
        "    for i, (pic, tag) in enumerate(zip(train_images, train_labels)):\n",
        "        if i % 100 == 0:\n",
        "            print('Average Loss %.f and Accuracy: %d%%' %( l/100, n_correct))\n",
        "            l = 0\n",
        "            n_correct = 0\n",
        "\n",
        "        l1, precision, = learning_cnn(pic, tag)\n",
        "        l += l1\n",
        "\n",
        "        n_correct +=precision"
      ],
      "execution_count": null,
      "outputs": []
    },
    {
      "cell_type": "code",
      "metadata": {
        "id": "-sn84qV7uaZO"
      },
      "source": [
        "\n",
        "print('Model evalution time')\n",
        "l = 0\n",
        "n_correct = 0\n",
        "\n",
        "for pic, tag in zip(val_images, val_tags):\n",
        "    _, l1, precision = cnn_forward_proppgation(img, label)\n",
        "    l += l1\n",
        "    n_correct += precision\n",
        "\n",
        "number_t = len(val_images)\n",
        "print(' Total Test error is :', l /number_t)\n",
        "print('Total Testing precision: ', (n_correct / number_test)*100)"
      ],
      "execution_count": null,
      "outputs": []
    }
  ]
}